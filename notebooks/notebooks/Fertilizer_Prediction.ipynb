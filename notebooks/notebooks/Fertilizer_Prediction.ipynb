{
 "cells": [
  {
   "cell_type": "code",
   "execution_count": 181,
   "id": "a6de1b1e-1be4-4a38-a93a-53c4e229b57f",
   "metadata": {},
   "outputs": [],
   "source": [
    "#importing libraries\n",
    "import pandas as pd\n",
    "import seaborn as sns\n",
    "import matplotlib.pyplot as plt\n",
    "import numpy as np\n",
    "import warnings\n",
    "warnings.filterwarnings('ignore')"
   ]
  },
  {
   "cell_type": "code",
   "execution_count": 183,
   "id": "d3fe17e4-57b0-4087-9b8f-5e698a67eb28",
   "metadata": {},
   "outputs": [
    {
     "data": {
      "text/html": [
       "<div>\n",
       "<style scoped>\n",
       "    .dataframe tbody tr th:only-of-type {\n",
       "        vertical-align: middle;\n",
       "    }\n",
       "\n",
       "    .dataframe tbody tr th {\n",
       "        vertical-align: top;\n",
       "    }\n",
       "\n",
       "    .dataframe thead th {\n",
       "        text-align: right;\n",
       "    }\n",
       "</style>\n",
       "<table border=\"1\" class=\"dataframe\">\n",
       "  <thead>\n",
       "    <tr style=\"text-align: right;\">\n",
       "      <th></th>\n",
       "      <th>Temparature</th>\n",
       "      <th>Humidity</th>\n",
       "      <th>Moisture</th>\n",
       "      <th>Soil_Type</th>\n",
       "      <th>Crop_Type</th>\n",
       "      <th>Nitrogen</th>\n",
       "      <th>Potassium</th>\n",
       "      <th>Phosphorous</th>\n",
       "      <th>Fertilizer</th>\n",
       "    </tr>\n",
       "  </thead>\n",
       "  <tbody>\n",
       "    <tr>\n",
       "      <th>0</th>\n",
       "      <td>20</td>\n",
       "      <td>83</td>\n",
       "      <td>26</td>\n",
       "      <td>Clayey</td>\n",
       "      <td>rice</td>\n",
       "      <td>90</td>\n",
       "      <td>49</td>\n",
       "      <td>36</td>\n",
       "      <td>Urea</td>\n",
       "    </tr>\n",
       "    <tr>\n",
       "      <th>1</th>\n",
       "      <td>25</td>\n",
       "      <td>84</td>\n",
       "      <td>32</td>\n",
       "      <td>Loamy</td>\n",
       "      <td>rice</td>\n",
       "      <td>66</td>\n",
       "      <td>59</td>\n",
       "      <td>36</td>\n",
       "      <td>Urea</td>\n",
       "    </tr>\n",
       "    <tr>\n",
       "      <th>2</th>\n",
       "      <td>33</td>\n",
       "      <td>64</td>\n",
       "      <td>50</td>\n",
       "      <td>Loamy</td>\n",
       "      <td>Wheat</td>\n",
       "      <td>41</td>\n",
       "      <td>0</td>\n",
       "      <td>0</td>\n",
       "      <td>Urea</td>\n",
       "    </tr>\n",
       "    <tr>\n",
       "      <th>3</th>\n",
       "      <td>34</td>\n",
       "      <td>65</td>\n",
       "      <td>54</td>\n",
       "      <td>Loamy</td>\n",
       "      <td>Wheat</td>\n",
       "      <td>38</td>\n",
       "      <td>0</td>\n",
       "      <td>0</td>\n",
       "      <td>Urea</td>\n",
       "    </tr>\n",
       "    <tr>\n",
       "      <th>4</th>\n",
       "      <td>38</td>\n",
       "      <td>72</td>\n",
       "      <td>51</td>\n",
       "      <td>Loamy</td>\n",
       "      <td>Wheat</td>\n",
       "      <td>39</td>\n",
       "      <td>0</td>\n",
       "      <td>0</td>\n",
       "      <td>Urea</td>\n",
       "    </tr>\n",
       "  </tbody>\n",
       "</table>\n",
       "</div>"
      ],
      "text/plain": [
       "   Temparature  Humidity  Moisture Soil_Type Crop_Type  Nitrogen  Potassium  \\\n",
       "0           20        83        26    Clayey      rice        90         49   \n",
       "1           25        84        32     Loamy      rice        66         59   \n",
       "2           33        64        50     Loamy     Wheat        41          0   \n",
       "3           34        65        54     Loamy     Wheat        38          0   \n",
       "4           38        72        51     Loamy     Wheat        39          0   \n",
       "\n",
       "   Phosphorous Fertilizer  \n",
       "0           36       Urea  \n",
       "1           36       Urea  \n",
       "2            0       Urea  \n",
       "3            0       Urea  \n",
       "4            0       Urea  "
      ]
     },
     "execution_count": 183,
     "metadata": {},
     "output_type": "execute_result"
    }
   ],
   "source": [
    "#importing the dataset\n",
    "data = pd.read_csv(r'C:\\Users\\parvathi143\\Desktop\\Dataset_collection\\f2.csv')\n",
    "data.head()"
   ]
  },
  {
   "cell_type": "code",
   "execution_count": 184,
   "id": "dc0c0952-6d64-4828-bf89-706ee19497a3",
   "metadata": {},
   "outputs": [],
   "source": [
    "# # Define the number of augmented samples to create for each original sample\n",
    "# # increase dataset from 100 rows to 500\n",
    "\n",
    "\n",
    "# num_augmented_samples = 3\n",
    "\n",
    "# augmented_data = []\n",
    "\n",
    "# for index, row in data.iterrows():\n",
    "#     original_sample = row.to_dict()\n",
    "#     augmented_samples = []\n",
    "\n",
    "#     for _ in range(num_augmented_samples):\n",
    "#         augmented_sample = original_sample.copy()\n",
    "#         augmented_sample['Temparature'] += np.random.normal(0, 0.1)\n",
    "#         augmented_sample['Humidity'] += np.random.normal(0, 0.1)\n",
    "#         augmented_sample['Moisture'] += np.random.normal(0, 0.1)\n",
    "#         augmented_sample['Nitrogen'] += np.random.normal(0, 0.1)\n",
    "#         augmented_sample['Potassium'] += np.random.normal(0, 0.1)\n",
    "#         augmented_sample['Phosphorous'] += np.random.normal(0, 0.1)\n",
    "#         # Add more transformations for other columns as needed\n",
    "#         augmented_samples.append(augmented_sample)\n",
    "\n",
    "\n",
    "#     augmented_data.extend(augmented_samples)\n",
    "\n",
    "# # Convert the augmented data to a DataFrame\n",
    "# augmented_dataset = pd.DataFrame(augmented_data)\n",
    "\n",
    "# # Concatenate the original dataset \n",
    "# data = pd.concat([dataset, augmented_dataset], ignore_index=True)"
   ]
  },
  {
   "cell_type": "code",
   "execution_count": 185,
   "id": "e21c2a52-1a4c-4c4d-929e-188c3b561569",
   "metadata": {},
   "outputs": [
    {
     "name": "stdout",
     "output_type": "stream",
     "text": [
      "<class 'pandas.core.frame.DataFrame'>\n",
      "RangeIndex: 552 entries, 0 to 551\n",
      "Data columns (total 9 columns):\n",
      " #   Column       Non-Null Count  Dtype \n",
      "---  ------       --------------  ----- \n",
      " 0   Temparature  552 non-null    int64 \n",
      " 1   Humidity     552 non-null    int64 \n",
      " 2   Moisture     552 non-null    int64 \n",
      " 3   Soil_Type    552 non-null    object\n",
      " 4   Crop_Type    552 non-null    object\n",
      " 5   Nitrogen     552 non-null    int64 \n",
      " 6   Potassium    552 non-null    int64 \n",
      " 7   Phosphorous  552 non-null    int64 \n",
      " 8   Fertilizer   552 non-null    object\n",
      "dtypes: int64(6), object(3)\n",
      "memory usage: 38.9+ KB\n"
     ]
    }
   ],
   "source": [
    "data.info()"
   ]
  },
  {
   "cell_type": "code",
   "execution_count": 186,
   "id": "f2dacc08-2f47-4a73-af4d-a61021857071",
   "metadata": {},
   "outputs": [],
   "source": [
    "#changing the column names\n",
    "data.rename(columns={'Humidity ':'Humidity','Soil Type':'Soil_Type','Crop Type':'Crop_Type','Fertilizer Name':'Fertilizer'},inplace=True)"
   ]
  },
  {
   "cell_type": "code",
   "execution_count": 187,
   "id": "7f2903e4-26df-43ec-9edf-2c2b5866cf2b",
   "metadata": {},
   "outputs": [
    {
     "data": {
      "text/plain": [
       "Temparature    21\n",
       "Humidity       34\n",
       "Moisture       41\n",
       "Soil_Type       5\n",
       "Crop_Type      17\n",
       "Nitrogen       47\n",
       "Potassium      31\n",
       "Phosphorous    36\n",
       "Fertilizer     14\n",
       "dtype: int64"
      ]
     },
     "execution_count": 187,
     "metadata": {},
     "output_type": "execute_result"
    }
   ],
   "source": [
    "#checking unique values\n",
    "data.nunique()"
   ]
  },
  {
   "cell_type": "code",
   "execution_count": 188,
   "id": "a76c1ec0-8489-4d2a-b986-f6dd9cf77444",
   "metadata": {},
   "outputs": [
    {
     "data": {
      "text/plain": [
       "Temparature    0\n",
       "Humidity       0\n",
       "Moisture       0\n",
       "Soil_Type      0\n",
       "Crop_Type      0\n",
       "Nitrogen       0\n",
       "Potassium      0\n",
       "Phosphorous    0\n",
       "Fertilizer     0\n",
       "dtype: int64"
      ]
     },
     "execution_count": 188,
     "metadata": {},
     "output_type": "execute_result"
    }
   ],
   "source": [
    "#checking for null values\n",
    "data.isna().sum()"
   ]
  },
  {
   "cell_type": "code",
   "execution_count": 189,
   "id": "927989c6-ef36-4961-8d15-0b8cc6bf4ac8",
   "metadata": {},
   "outputs": [
    {
     "data": {
      "text/plain": [
       "array(['Urea', 'TSP', 'Superphosphate', 'Potassium sulfate.',\n",
       "       'Potassium chloride', 'DAP', '28-28', '20-20', '17-17-17',\n",
       "       '15-15-15', '14-35-14', '14-14-14', '10-26-26', '10-10-10'],\n",
       "      dtype=object)"
      ]
     },
     "execution_count": 189,
     "metadata": {},
     "output_type": "execute_result"
    }
   ],
   "source": [
    "data['Fertilizer'].unique()"
   ]
  },
  {
   "cell_type": "code",
   "execution_count": 190,
   "id": "fe0f14f3-d1d1-4d7a-8b40-d9caa1fa08ab",
   "metadata": {},
   "outputs": [
    {
     "data": {
      "text/plain": [
       "array(['rice', 'Wheat', 'Tobacco', 'Sugarcane', 'Pulses', 'pomegranate',\n",
       "       'Paddy', 'Oil seeds', 'Millets', 'Maize', 'Ground Nuts', 'Cotton',\n",
       "       'coffee', 'watermelon', 'Barley', 'kidneybeans', 'orange'],\n",
       "      dtype=object)"
      ]
     },
     "execution_count": 190,
     "metadata": {},
     "output_type": "execute_result"
    }
   ],
   "source": [
    "data['Crop_Type'].unique()"
   ]
  },
  {
   "cell_type": "code",
   "execution_count": 192,
   "id": "6eeba9f6-eab6-4914-9a75-ba487922ec29",
   "metadata": {},
   "outputs": [
    {
     "data": {
      "text/html": [
       "<div>\n",
       "<style scoped>\n",
       "    .dataframe tbody tr th:only-of-type {\n",
       "        vertical-align: middle;\n",
       "    }\n",
       "\n",
       "    .dataframe tbody tr th {\n",
       "        vertical-align: top;\n",
       "    }\n",
       "\n",
       "    .dataframe thead th {\n",
       "        text-align: right;\n",
       "    }\n",
       "</style>\n",
       "<table border=\"1\" class=\"dataframe\">\n",
       "  <thead>\n",
       "    <tr style=\"text-align: right;\">\n",
       "      <th></th>\n",
       "      <th>Temparature</th>\n",
       "      <th>Humidity</th>\n",
       "      <th>Moisture</th>\n",
       "      <th>Soil_Type</th>\n",
       "      <th>Crop_Type</th>\n",
       "      <th>Nitrogen</th>\n",
       "      <th>Potassium</th>\n",
       "      <th>Phosphorous</th>\n",
       "      <th>Fertilizer</th>\n",
       "    </tr>\n",
       "  </thead>\n",
       "  <tbody>\n",
       "    <tr>\n",
       "      <th>count</th>\n",
       "      <td>552.000000</td>\n",
       "      <td>552.000000</td>\n",
       "      <td>552.000000</td>\n",
       "      <td>552</td>\n",
       "      <td>552</td>\n",
       "      <td>552.000000</td>\n",
       "      <td>552.000000</td>\n",
       "      <td>552.000000</td>\n",
       "      <td>552</td>\n",
       "    </tr>\n",
       "    <tr>\n",
       "      <th>unique</th>\n",
       "      <td>NaN</td>\n",
       "      <td>NaN</td>\n",
       "      <td>NaN</td>\n",
       "      <td>5</td>\n",
       "      <td>17</td>\n",
       "      <td>NaN</td>\n",
       "      <td>NaN</td>\n",
       "      <td>NaN</td>\n",
       "      <td>14</td>\n",
       "    </tr>\n",
       "    <tr>\n",
       "      <th>top</th>\n",
       "      <td>NaN</td>\n",
       "      <td>NaN</td>\n",
       "      <td>NaN</td>\n",
       "      <td>Loamy</td>\n",
       "      <td>Cotton</td>\n",
       "      <td>NaN</td>\n",
       "      <td>NaN</td>\n",
       "      <td>NaN</td>\n",
       "      <td>Urea</td>\n",
       "    </tr>\n",
       "    <tr>\n",
       "      <th>freq</th>\n",
       "      <td>NaN</td>\n",
       "      <td>NaN</td>\n",
       "      <td>NaN</td>\n",
       "      <td>192</td>\n",
       "      <td>64</td>\n",
       "      <td>NaN</td>\n",
       "      <td>NaN</td>\n",
       "      <td>NaN</td>\n",
       "      <td>108</td>\n",
       "    </tr>\n",
       "    <tr>\n",
       "      <th>mean</th>\n",
       "      <td>28.630435</td>\n",
       "      <td>64.557971</td>\n",
       "      <td>42.840580</td>\n",
       "      <td>NaN</td>\n",
       "      <td>NaN</td>\n",
       "      <td>28.521739</td>\n",
       "      <td>10.144928</td>\n",
       "      <td>21.115942</td>\n",
       "      <td>NaN</td>\n",
       "    </tr>\n",
       "    <tr>\n",
       "      <th>std</th>\n",
       "      <td>5.088082</td>\n",
       "      <td>11.880236</td>\n",
       "      <td>11.507275</td>\n",
       "      <td>NaN</td>\n",
       "      <td>NaN</td>\n",
       "      <td>29.121989</td>\n",
       "      <td>13.456956</td>\n",
       "      <td>14.920514</td>\n",
       "      <td>NaN</td>\n",
       "    </tr>\n",
       "    <tr>\n",
       "      <th>min</th>\n",
       "      <td>0.000000</td>\n",
       "      <td>50.000000</td>\n",
       "      <td>25.000000</td>\n",
       "      <td>NaN</td>\n",
       "      <td>NaN</td>\n",
       "      <td>0.000000</td>\n",
       "      <td>0.000000</td>\n",
       "      <td>0.000000</td>\n",
       "      <td>NaN</td>\n",
       "    </tr>\n",
       "    <tr>\n",
       "      <th>25%</th>\n",
       "      <td>26.000000</td>\n",
       "      <td>54.000000</td>\n",
       "      <td>33.000000</td>\n",
       "      <td>NaN</td>\n",
       "      <td>NaN</td>\n",
       "      <td>10.000000</td>\n",
       "      <td>0.000000</td>\n",
       "      <td>8.000000</td>\n",
       "      <td>NaN</td>\n",
       "    </tr>\n",
       "    <tr>\n",
       "      <th>50%</th>\n",
       "      <td>29.000000</td>\n",
       "      <td>62.000000</td>\n",
       "      <td>41.000000</td>\n",
       "      <td>NaN</td>\n",
       "      <td>NaN</td>\n",
       "      <td>15.000000</td>\n",
       "      <td>0.000000</td>\n",
       "      <td>20.000000</td>\n",
       "      <td>NaN</td>\n",
       "    </tr>\n",
       "    <tr>\n",
       "      <th>75%</th>\n",
       "      <td>32.000000</td>\n",
       "      <td>68.000000</td>\n",
       "      <td>51.000000</td>\n",
       "      <td>NaN</td>\n",
       "      <td>NaN</td>\n",
       "      <td>37.000000</td>\n",
       "      <td>18.000000</td>\n",
       "      <td>36.000000</td>\n",
       "      <td>NaN</td>\n",
       "    </tr>\n",
       "    <tr>\n",
       "      <th>max</th>\n",
       "      <td>38.000000</td>\n",
       "      <td>95.000000</td>\n",
       "      <td>65.000000</td>\n",
       "      <td>NaN</td>\n",
       "      <td>NaN</td>\n",
       "      <td>126.000000</td>\n",
       "      <td>59.000000</td>\n",
       "      <td>54.000000</td>\n",
       "      <td>NaN</td>\n",
       "    </tr>\n",
       "  </tbody>\n",
       "</table>\n",
       "</div>"
      ],
      "text/plain": [
       "        Temparature    Humidity    Moisture Soil_Type Crop_Type    Nitrogen  \\\n",
       "count    552.000000  552.000000  552.000000       552       552  552.000000   \n",
       "unique          NaN         NaN         NaN         5        17         NaN   \n",
       "top             NaN         NaN         NaN     Loamy    Cotton         NaN   \n",
       "freq            NaN         NaN         NaN       192        64         NaN   \n",
       "mean      28.630435   64.557971   42.840580       NaN       NaN   28.521739   \n",
       "std        5.088082   11.880236   11.507275       NaN       NaN   29.121989   \n",
       "min        0.000000   50.000000   25.000000       NaN       NaN    0.000000   \n",
       "25%       26.000000   54.000000   33.000000       NaN       NaN   10.000000   \n",
       "50%       29.000000   62.000000   41.000000       NaN       NaN   15.000000   \n",
       "75%       32.000000   68.000000   51.000000       NaN       NaN   37.000000   \n",
       "max       38.000000   95.000000   65.000000       NaN       NaN  126.000000   \n",
       "\n",
       "         Potassium  Phosphorous Fertilizer  \n",
       "count   552.000000   552.000000        552  \n",
       "unique         NaN          NaN         14  \n",
       "top            NaN          NaN       Urea  \n",
       "freq           NaN          NaN        108  \n",
       "mean     10.144928    21.115942        NaN  \n",
       "std      13.456956    14.920514        NaN  \n",
       "min       0.000000     0.000000        NaN  \n",
       "25%       0.000000     8.000000        NaN  \n",
       "50%       0.000000    20.000000        NaN  \n",
       "75%      18.000000    36.000000        NaN  \n",
       "max      59.000000    54.000000        NaN  "
      ]
     },
     "execution_count": 192,
     "metadata": {},
     "output_type": "execute_result"
    }
   ],
   "source": [
    "#statistical parameters\n",
    "data.describe(include='all')"
   ]
  },
  {
   "cell_type": "code",
   "execution_count": 195,
   "id": "804887e2-ed47-49f0-8e77-82ee13ba656a",
   "metadata": {},
   "outputs": [
    {
     "data": {
      "image/png": "[encoded data removed]",
      "text/plain": [
       "<Figure size 1300x500 with 1 Axes>"
      ]
     },
     "metadata": {},
     "output_type": "display_data"
    }
   ],
   "source": [
    "plt.figure(figsize=(13, 5))\n",
    "sns.set(style=\"whitegrid\")\n",
    "\n",
    "# Using a custom color palette\n",
    "custom_colors = ['#FF9999', '#66B2FF', '#99FF99', '#FFCC99', '#FF6666']\n",
    "sns.countplot(data=data, x='Crop_Type', palette=custom_colors)\n",
    "\n",
    "plt.title('Count Plot for Crop_Type')\n",
    "plt.xlabel('Crop_Type')\n",
    "plt.ylabel('Count')\n",
    "plt.show()\n"
   ]
  },
  {
   "cell_type": "code",
   "execution_count": 197,
   "id": "373e97c9-004a-4475-adea-b793a938f80f",
   "metadata": {},
   "outputs": [
    {
     "data": {
      "image/png": "[encoded data removed]",
      "text/plain": [
       "<Figure size 1000x400 with 1 Axes>"
      ]
     },
     "metadata": {},
     "output_type": "display_data"
    }
   ],
   "source": [
    "\n",
    "#first 4 crop types\n",
    "part1_data = data[data['Crop_Type'].isin(data['Crop_Type'].value_counts().index[:4])]\n",
    "\n",
    "# Create the first countplot\n",
    "plt.figure(figsize=(10, 4))\n",
    "sns.set(style=\"whitegrid\")\n",
    "sns.countplot(data=part1_data, x='Crop_Type', hue='Fertilizer', palette='Set2')\n",
    "plt.title('First 4 Crop Types')\n",
    "plt.xlabel('Crop_Type')\n",
    "plt.ylabel('Count')\n",
    "plt.legend(title='Fertilizer')\n",
    "plt.xticks(rotation=45, horizontalalignment='right')\n",
    "plt.tight_layout()\n",
    "plt.show()\n"
   ]
  },
  {
   "cell_type": "code",
   "execution_count": 198,
   "id": "c953303d-bc06-4cc4-83c9-53bc53aeb567",
   "metadata": {},
   "outputs": [
    {
     "data": {
      "image/png": "[encoded data removed]",
      "text/plain": [
       "<Figure size 800x400 with 1 Axes>"
      ]
     },
     "metadata": {},
     "output_type": "display_data"
    }
   ],
   "source": [
    "# Split the data into three parts: remaining crop types\n",
    "part3_data = data[data['Crop_Type'].isin(data['Crop_Type'].value_counts().index[8:13])]\n",
    "\n",
    "# Create the third countplot\n",
    "plt.figure(figsize=(8, 4))\n",
    "sns.set(style=\"whitegrid\")\n",
    "sns.countplot(data=part3_data, x='Crop_Type', hue='Fertilizer',  palette='Set2')\n",
    "plt.title('Remaining Crop Types')\n",
    "plt.xlabel('Crop_Type')\n",
    "plt.ylabel('Count')\n",
    "plt.legend(title='Fertilizer')\n",
    "plt.xticks(rotation=45, horizontalalignment='right')\n",
    "plt.tight_layout()\n",
    "plt.show()\n"
   ]
  },
  {
   "cell_type": "code",
   "execution_count": 200,
   "id": "64e5f69f-5a6a-49fd-8675-3636368e4ed4",
   "metadata": {},
   "outputs": [
    {
     "data": {
      "image/png": "[encoded data removed]",
      "text/plain": [
       "<Figure size 1000x800 with 2 Axes>"
      ]
     },
     "metadata": {},
     "output_type": "display_data"
    }
   ],
   "source": [
    "# Select only the numeric columns for the correlation heatmap\n",
    "numeric_data = data.select_dtypes(include=['float64', 'int64'])\n",
    "\n",
    "# Create the heatmap for correlation\n",
    "plt.figure(figsize=(10, 8))\n",
    "sns.heatmap(numeric_data.corr(), annot=True, cmap='coolwarm')\n",
    "\n",
    "plt.title('Heatmap for Correlation Analysis')\n",
    "plt.show()\n"
   ]
  },
  {
   "cell_type": "code",
   "execution_count": 202,
   "id": "4ab3ab7d-a49a-4196-8fb1-94a4864a8f1f",
   "metadata": {},
   "outputs": [],
   "source": [
    "#encoding the labels for categorical variables\n",
    "from sklearn.preprocessing import LabelEncoder\n",
    "#it  transforming non-numeric data into a numeric format"
   ]
  },
  {
   "cell_type": "code",
   "execution_count": 204,
   "id": "8fa59f1d-bbd0-4c98-8b87-b37c48922fec",
   "metadata": {},
   "outputs": [
    {
     "data": {
      "text/html": [
       "<div>\n",
       "<style scoped>\n",
       "    .dataframe tbody tr th:only-of-type {\n",
       "        vertical-align: middle;\n",
       "    }\n",
       "\n",
       "    .dataframe tbody tr th {\n",
       "        vertical-align: top;\n",
       "    }\n",
       "\n",
       "    .dataframe thead th {\n",
       "        text-align: right;\n",
       "    }\n",
       "</style>\n",
       "<table border=\"1\" class=\"dataframe\">\n",
       "  <thead>\n",
       "    <tr style=\"text-align: right;\">\n",
       "      <th></th>\n",
       "      <th>Encoded</th>\n",
       "    </tr>\n",
       "    <tr>\n",
       "      <th>Original</th>\n",
       "      <th></th>\n",
       "    </tr>\n",
       "  </thead>\n",
       "  <tbody>\n",
       "    <tr>\n",
       "      <th>Black</th>\n",
       "      <td>0</td>\n",
       "    </tr>\n",
       "    <tr>\n",
       "      <th>Clayey</th>\n",
       "      <td>1</td>\n",
       "    </tr>\n",
       "    <tr>\n",
       "      <th>Loamy</th>\n",
       "      <td>2</td>\n",
       "    </tr>\n",
       "    <tr>\n",
       "      <th>Red</th>\n",
       "      <td>3</td>\n",
       "    </tr>\n",
       "    <tr>\n",
       "      <th>Sandy</th>\n",
       "      <td>4</td>\n",
       "    </tr>\n",
       "  </tbody>\n",
       "</table>\n",
       "</div>"
      ],
      "text/plain": [
       "          Encoded\n",
       "Original         \n",
       "Black           0\n",
       "Clayey          1\n",
       "Loamy           2\n",
       "Red             3\n",
       "Sandy           4"
      ]
     },
     "execution_count": 204,
     "metadata": {},
     "output_type": "execute_result"
    }
   ],
   "source": [
    "#encoding Soil Type variable\n",
    "encode_soil = LabelEncoder()\n",
    "\n",
    "#fitting the label encoder\n",
    "data.Soil_Type = encode_soil.fit_transform(data.Soil_Type)\n",
    "\n",
    "#creating the DataFrame\n",
    "Soil_Type = pd.DataFrame(zip(encode_soil.classes_,encode_soil.transform(encode_soil.classes_)),columns=['Original','Encoded'])\n",
    "Soil_Type = Soil_Type.set_index('Original')\n",
    "Soil_Type"
   ]
  },
  {
   "cell_type": "code",
   "execution_count": 205,
   "id": "3a0d9e10-a6b8-4eb5-a89c-b04be751c03a",
   "metadata": {},
   "outputs": [
    {
     "data": {
      "text/html": [
       "<div>\n",
       "<style scoped>\n",
       "    .dataframe tbody tr th:only-of-type {\n",
       "        vertical-align: middle;\n",
       "    }\n",
       "\n",
       "    .dataframe tbody tr th {\n",
       "        vertical-align: top;\n",
       "    }\n",
       "\n",
       "    .dataframe thead th {\n",
       "        text-align: right;\n",
       "    }\n",
       "</style>\n",
       "<table border=\"1\" class=\"dataframe\">\n",
       "  <thead>\n",
       "    <tr style=\"text-align: right;\">\n",
       "      <th></th>\n",
       "      <th>Encoded</th>\n",
       "    </tr>\n",
       "    <tr>\n",
       "      <th>Original</th>\n",
       "      <th></th>\n",
       "    </tr>\n",
       "  </thead>\n",
       "  <tbody>\n",
       "    <tr>\n",
       "      <th>Barley</th>\n",
       "      <td>0</td>\n",
       "    </tr>\n",
       "    <tr>\n",
       "      <th>Cotton</th>\n",
       "      <td>1</td>\n",
       "    </tr>\n",
       "    <tr>\n",
       "      <th>Ground Nuts</th>\n",
       "      <td>2</td>\n",
       "    </tr>\n",
       "    <tr>\n",
       "      <th>Maize</th>\n",
       "      <td>3</td>\n",
       "    </tr>\n",
       "    <tr>\n",
       "      <th>Millets</th>\n",
       "      <td>4</td>\n",
       "    </tr>\n",
       "    <tr>\n",
       "      <th>Oil seeds</th>\n",
       "      <td>5</td>\n",
       "    </tr>\n",
       "    <tr>\n",
       "      <th>Paddy</th>\n",
       "      <td>6</td>\n",
       "    </tr>\n",
       "    <tr>\n",
       "      <th>Pulses</th>\n",
       "      <td>7</td>\n",
       "    </tr>\n",
       "    <tr>\n",
       "      <th>Sugarcane</th>\n",
       "      <td>8</td>\n",
       "    </tr>\n",
       "    <tr>\n",
       "      <th>Tobacco</th>\n",
       "      <td>9</td>\n",
       "    </tr>\n",
       "    <tr>\n",
       "      <th>Wheat</th>\n",
       "      <td>10</td>\n",
       "    </tr>\n",
       "    <tr>\n",
       "      <th>coffee</th>\n",
       "      <td>11</td>\n",
       "    </tr>\n",
       "    <tr>\n",
       "      <th>kidneybeans</th>\n",
       "      <td>12</td>\n",
       "    </tr>\n",
       "    <tr>\n",
       "      <th>orange</th>\n",
       "      <td>13</td>\n",
       "    </tr>\n",
       "    <tr>\n",
       "      <th>pomegranate</th>\n",
       "      <td>14</td>\n",
       "    </tr>\n",
       "    <tr>\n",
       "      <th>rice</th>\n",
       "      <td>15</td>\n",
       "    </tr>\n",
       "    <tr>\n",
       "      <th>watermelon</th>\n",
       "      <td>16</td>\n",
       "    </tr>\n",
       "  </tbody>\n",
       "</table>\n",
       "</div>"
      ],
      "text/plain": [
       "             Encoded\n",
       "Original            \n",
       "Barley             0\n",
       "Cotton             1\n",
       "Ground Nuts        2\n",
       "Maize              3\n",
       "Millets            4\n",
       "Oil seeds          5\n",
       "Paddy              6\n",
       "Pulses             7\n",
       "Sugarcane          8\n",
       "Tobacco            9\n",
       "Wheat             10\n",
       "coffee            11\n",
       "kidneybeans       12\n",
       "orange            13\n",
       "pomegranate       14\n",
       "rice              15\n",
       "watermelon        16"
      ]
     },
     "execution_count": 205,
     "metadata": {},
     "output_type": "execute_result"
    }
   ],
   "source": [
    "#encoding Crop Type variable\n",
    "encode_crop = LabelEncoder()\n",
    "\n",
    "#fitting the label encoder\n",
    "data.Crop_Type = encode_crop.fit_transform(data.Crop_Type)\n",
    "\n",
    "#creating the DataFrame\n",
    "Crop_Type = pd.DataFrame(zip(encode_crop.classes_,encode_crop.transform(encode_crop.classes_)),columns=['Original','Encoded'])\n",
    "Crop_Type = Crop_Type.set_index('Original')\n",
    "Crop_Type"
   ]
  },
  {
   "cell_type": "code",
   "execution_count": 208,
   "id": "fca49cd9-7f55-40a9-b6bd-1b20264d3370",
   "metadata": {},
   "outputs": [
    {
     "data": {
      "text/html": [
       "<div>\n",
       "<style scoped>\n",
       "    .dataframe tbody tr th:only-of-type {\n",
       "        vertical-align: middle;\n",
       "    }\n",
       "\n",
       "    .dataframe tbody tr th {\n",
       "        vertical-align: top;\n",
       "    }\n",
       "\n",
       "    .dataframe thead th {\n",
       "        text-align: right;\n",
       "    }\n",
       "</style>\n",
       "<table border=\"1\" class=\"dataframe\">\n",
       "  <thead>\n",
       "    <tr style=\"text-align: right;\">\n",
       "      <th></th>\n",
       "      <th>Encoded</th>\n",
       "    </tr>\n",
       "    <tr>\n",
       "      <th>Original</th>\n",
       "      <th></th>\n",
       "    </tr>\n",
       "  </thead>\n",
       "  <tbody>\n",
       "    <tr>\n",
       "      <th>10-10-10</th>\n",
       "      <td>0</td>\n",
       "    </tr>\n",
       "    <tr>\n",
       "      <th>10-26-26</th>\n",
       "      <td>1</td>\n",
       "    </tr>\n",
       "    <tr>\n",
       "      <th>14-14-14</th>\n",
       "      <td>2</td>\n",
       "    </tr>\n",
       "    <tr>\n",
       "      <th>14-35-14</th>\n",
       "      <td>3</td>\n",
       "    </tr>\n",
       "    <tr>\n",
       "      <th>15-15-15</th>\n",
       "      <td>4</td>\n",
       "    </tr>\n",
       "    <tr>\n",
       "      <th>17-17-17</th>\n",
       "      <td>5</td>\n",
       "    </tr>\n",
       "    <tr>\n",
       "      <th>20-20</th>\n",
       "      <td>6</td>\n",
       "    </tr>\n",
       "    <tr>\n",
       "      <th>28-28</th>\n",
       "      <td>7</td>\n",
       "    </tr>\n",
       "    <tr>\n",
       "      <th>DAP</th>\n",
       "      <td>8</td>\n",
       "    </tr>\n",
       "    <tr>\n",
       "      <th>Potassium chloride</th>\n",
       "      <td>9</td>\n",
       "    </tr>\n",
       "    <tr>\n",
       "      <th>Potassium sulfate.</th>\n",
       "      <td>10</td>\n",
       "    </tr>\n",
       "    <tr>\n",
       "      <th>Superphosphate</th>\n",
       "      <td>11</td>\n",
       "    </tr>\n",
       "    <tr>\n",
       "      <th>TSP</th>\n",
       "      <td>12</td>\n",
       "    </tr>\n",
       "    <tr>\n",
       "      <th>Urea</th>\n",
       "      <td>13</td>\n",
       "    </tr>\n",
       "  </tbody>\n",
       "</table>\n",
       "</div>"
      ],
      "text/plain": [
       "                    Encoded\n",
       "Original                   \n",
       "10-10-10                  0\n",
       "10-26-26                  1\n",
       "14-14-14                  2\n",
       "14-35-14                  3\n",
       "15-15-15                  4\n",
       "17-17-17                  5\n",
       "20-20                     6\n",
       "28-28                     7\n",
       "DAP                       8\n",
       "Potassium chloride        9\n",
       "Potassium sulfate.       10\n",
       "Superphosphate           11\n",
       "TSP                      12\n",
       "Urea                     13"
      ]
     },
     "execution_count": 208,
     "metadata": {},
     "output_type": "execute_result"
    }
   ],
   "source": [
    "#encoding Fertilizer variable\n",
    "encode_ferti = LabelEncoder()\n",
    "\n",
    "#fitting the label encoder\n",
    "data.Fertilizer = encode_ferti.fit_transform(data.Fertilizer)\n",
    "\n",
    "#creating the DataFrame\n",
    "Fertilizer = pd.DataFrame(zip(encode_ferti.classes_,encode_ferti.transform(encode_ferti.classes_)),columns=['Original','Encoded'])\n",
    "Fertilizer = Fertilizer.set_index('Original')\n",
    "Fertilizer"
   ]
  },
  {
   "cell_type": "code",
   "execution_count": 209,
   "id": "57543e4c-a328-43d0-b60b-38788ca436e8",
   "metadata": {},
   "outputs": [
    {
     "name": "stdout",
     "output_type": "stream",
     "text": [
      "Shape of Splitting :\n",
      "x_train = (414, 8), y_train = (414,), x_test = (138, 8), y_test = (138,)\n"
     ]
    }
   ],
   "source": [
    "#splitting the data into train and test\n",
    "from sklearn.model_selection import train_test_split\n",
    "\n",
    "x_train, x_test, y_train, y_test = train_test_split(data.drop('Fertilizer',axis=1),data.Fertilizer,test_size=0.25,random_state=42)\n",
    "#X_train, X_test, y_train, y_test = train_test_split(X, y, test_size=0.25, random_state=42)\n",
    "from sklearn.model_selection import train_test_split\n",
    "\n",
    "\n",
    "print('Shape of Splitting :')\n",
    "print('x_train = {}, y_train = {}, x_test = {}, y_test = {}'.format(x_train.shape,y_train.shape,x_test.shape,y_test.shape))\n",
    "y_test=list(y_test)"
   ]
  },
  {
   "cell_type": "code",
   "execution_count": 215,
   "id": "3867a22b-bc1a-46f1-b6ef-545861bfde7c",
   "metadata": {},
   "outputs": [
    {
     "name": "stdout",
     "output_type": "stream",
     "text": [
      "<class 'pandas.core.frame.DataFrame'>\n",
      "Index: 414 entries, 280 to 102\n",
      "Data columns (total 8 columns):\n",
      " #   Column       Non-Null Count  Dtype\n",
      "---  ------       --------------  -----\n",
      " 0   Temparature  414 non-null    int64\n",
      " 1   Humidity     414 non-null    int64\n",
      " 2   Moisture     414 non-null    int64\n",
      " 3   Soil_Type    414 non-null    int32\n",
      " 4   Crop_Type    414 non-null    int32\n",
      " 5   Nitrogen     414 non-null    int64\n",
      " 6   Potassium    414 non-null    int64\n",
      " 7   Phosphorous  414 non-null    int64\n",
      "dtypes: int32(2), int64(6)\n",
      "memory usage: 25.9 KB\n"
     ]
    }
   ],
   "source": [
    "x_train.info()"
   ]
  },
  {
   "cell_type": "code",
   "execution_count": 216,
   "id": "53e4d86b-0a0e-407d-8630-a9c2046e7671",
   "metadata": {},
   "outputs": [],
   "source": [
    "acc = [] # TEST\n",
    "model = []\n",
    "acc1=[] # TRIAN"
   ]
  },
  {
   "cell_type": "code",
   "execution_count": 217,
   "id": "d3d4bb92",
   "metadata": {},
   "outputs": [
    {
     "name": "stdout",
     "output_type": "stream",
     "text": [
      "Decision Trees's Test Accuracy: 93.48%\n",
      "Decision Trees's Train Accuracy: 93.48%\n",
      "\n",
      "Classification Report (Test Set):\n",
      "              precision    recall  f1-score   support\n",
      "\n",
      "           0       1.00      0.67      0.80         6\n",
      "           1       1.00      1.00      1.00         9\n",
      "           2       0.71      1.00      0.83         5\n",
      "           3       1.00      1.00      1.00         9\n",
      "           4       1.00      1.00      1.00         2\n",
      "           5       1.00      1.00      1.00         4\n",
      "           6       1.00      1.00      1.00         9\n",
      "           7       1.00      1.00      1.00        30\n",
      "           8       0.92      0.96      0.94        23\n",
      "          10       0.00      0.00      0.00         2\n",
      "          11       0.25      1.00      0.40         1\n",
      "          12       0.86      0.86      0.86         7\n",
      "          13       1.00      0.90      0.95        31\n",
      "\n",
      "    accuracy                           0.93       138\n",
      "   macro avg       0.83      0.88      0.83       138\n",
      "weighted avg       0.95      0.93      0.94       138\n",
      "\n"
     ]
    }
   ],
   "source": [
    "# Importing libraries\n",
    "from sklearn.tree import DecisionTreeClassifier\n",
    "from sklearn.metrics import classification_report\n",
    "from sklearn import metrics\n",
    "import warnings\n",
    "warnings.filterwarnings('ignore')\n",
    "\n",
    "# Initialize and train the Decision Tree model\n",
    "model = DecisionTreeClassifier(criterion=\"entropy\", random_state=42, max_depth=5)\n",
    "model.fit(x_train, y_train)\n",
    "\n",
    "# Predict on the test set\n",
    "test_predictions = model.predict(x_test)\n",
    "test_accuracy = metrics.accuracy_score(y_test, test_predictions)\n",
    "\n",
    "# Append test accuracy\n",
    "acc.append(test_accuracy)\n",
    "\n",
    "# Predict on the training set\n",
    "train_predictions = model.predict(x_train)\n",
    "train_accuracy = metrics.accuracy_score(y_train, train_predictions)\n",
    "\n",
    "# Append training accuracy\n",
    "acc1.append(train_accuracy)\n",
    "\n",
    "# Print accuracies\n",
    "print(f\"Decision Trees's Test Accuracy: {test_accuracy * 100:.2f}%\")\n",
    "print(f\"Decision Trees's Train Accuracy: {train_accuracy * 100:.2f}%\")\n",
    "\n",
    "# Classification report for the test set\n",
    "print(\"\\nClassification Report (Test Set):\")\n",
    "print(classification_report(y_test, test_predictions))\n"
   ]
  },
  {
   "cell_type": "code",
   "execution_count": null,
   "id": "7c6551d5-74e2-4817-be26-a3bdd8ed9788",
   "metadata": {},
   "outputs": [],
   "source": []
  },
  {
   "cell_type": "code",
   "execution_count": 219,
   "id": "ab7efb1c-e0d4-4b7a-affc-7b33a3bc6121",
   "metadata": {},
   "outputs": [
    {
     "name": "stdout",
     "output_type": "stream",
     "text": [
      "Naive Bayes's Test Accuracy: 93.48%\n",
      "Naive Bayes's Train Accuracy: 90.58%\n",
      "\n",
      "Classification Report (Test Set):\n",
      "              precision    recall  f1-score   support\n",
      "\n",
      "           0       1.00      0.67      0.80         6\n",
      "           1       1.00      1.00      1.00         9\n",
      "           2       1.00      1.00      1.00         5\n",
      "           3       1.00      1.00      1.00         9\n",
      "           4       0.50      1.00      0.67         2\n",
      "           5       1.00      1.00      1.00         4\n",
      "           6       1.00      1.00      1.00         9\n",
      "           7       1.00      1.00      1.00        30\n",
      "           8       0.88      0.91      0.89        23\n",
      "          10       1.00      1.00      1.00         2\n",
      "          11       0.33      1.00      0.50         1\n",
      "          12       0.75      0.86      0.80         7\n",
      "          13       1.00      0.87      0.93        31\n",
      "\n",
      "    accuracy                           0.93       138\n",
      "   macro avg       0.88      0.95      0.89       138\n",
      "weighted avg       0.95      0.93      0.94       138\n",
      "\n"
     ]
    }
   ],
   "source": [
    "from sklearn.naive_bayes import GaussianNB\n",
    "from sklearn.metrics import classification_report, accuracy_score\n",
    "\n",
    "# Initialize and train the Naive Bayes model\n",
    "NaiveBayes = GaussianNB()\n",
    "NaiveBayes.fit(x_train, y_train)\n",
    "\n",
    "# Predict on the test set\n",
    "test_predictions = NaiveBayes.predict(x_test)\n",
    "test_accuracy = accuracy_score(y_test, test_predictions)\n",
    "acc.append(test_accuracy)\n",
    "\n",
    "# Predict on the training set\n",
    "train_predictions = NaiveBayes.predict(x_train)\n",
    "train_accuracy = accuracy_score(y_train, train_predictions)\n",
    "acc1.append(train_accuracy)\n",
    "\n",
    "# Append the model name\n",
    "#model.append('Naive Bayes')\n",
    "\n",
    "# Print accuracies\n",
    "print(f\"Naive Bayes's Test Accuracy: {test_accuracy * 100:.2f}%\")\n",
    "print(f\"Naive Bayes's Train Accuracy: {train_accuracy * 100:.2f}%\")\n",
    "\n",
    "# Classification report for the test set\n",
    "print(\"\\nClassification Report (Test Set):\")\n",
    "print(classification_report(y_test, test_predictions))\n",
    "\n"
   ]
  },
  {
   "cell_type": "code",
   "execution_count": 220,
   "id": "fa966854-b29c-42c6-bccf-d6bbfb12672a",
   "metadata": {},
   "outputs": [
    {
     "name": "stdout",
     "output_type": "stream",
     "text": [
      "SVM's Test Accuracy: 99.28%\n",
      "SVM's Train Accuracy: 99.28%\n",
      "\n",
      "Classification Report (Test Set):\n",
      "              precision    recall  f1-score   support\n",
      "\n",
      "           0       1.00      1.00      1.00         6\n",
      "           1       1.00      1.00      1.00         9\n",
      "           2       1.00      1.00      1.00         5\n",
      "           3       1.00      1.00      1.00         9\n",
      "           4       1.00      1.00      1.00         2\n",
      "           5       1.00      1.00      1.00         4\n",
      "           6       1.00      1.00      1.00         9\n",
      "           7       1.00      1.00      1.00        30\n",
      "           8       1.00      1.00      1.00        23\n",
      "          10       1.00      1.00      1.00         2\n",
      "          11       0.50      1.00      0.67         1\n",
      "          12       1.00      1.00      1.00         7\n",
      "          13       1.00      0.97      0.98        31\n",
      "\n",
      "    accuracy                           0.99       138\n",
      "   macro avg       0.96      1.00      0.97       138\n",
      "weighted avg       1.00      0.99      0.99       138\n",
      "\n"
     ]
    }
   ],
   "source": [
    "from sklearn.svm import SVC\n",
    "from sklearn.preprocessing import MinMaxScaler\n",
    "from sklearn.metrics import classification_report, accuracy_score\n",
    "\n",
    "# Normalize the data\n",
    "norm = MinMaxScaler().fit(x_train)\n",
    "X_train_norm = norm.transform(x_train)\n",
    "X_test_norm = norm.transform(x_test)\n",
    "\n",
    "# Initialize and train the SVM model\n",
    "SVM = SVC(kernel='poly', degree=3, C=1)\n",
    "SVM.fit(X_train_norm, y_train)\n",
    "\n",
    "# Predict on the test set\n",
    "test_predictions = SVM.predict(X_test_norm)\n",
    "test_accuracy = accuracy_score(y_test, test_predictions)\n",
    "acc.append(test_accuracy)\n",
    "\n",
    "# Predict on the training set\n",
    "train_predictions = SVM.predict(X_train_norm)\n",
    "train_accuracy = accuracy_score(y_train, train_predictions)\n",
    "acc1.append(train_accuracy)\n",
    "\n",
    "# Print accuracies\n",
    "print(f\"SVM's Test Accuracy: {test_accuracy * 100:.2f}%\")\n",
    "print(f\"SVM's Train Accuracy: {train_accuracy * 100:.2f}%\")\n",
    "\n",
    "# Classification report for the test set\n",
    "print(\"\\nClassification Report (Test Set):\")\n",
    "print(classification_report(y_test, test_predictions))\n"
   ]
  },
  {
   "cell_type": "code",
   "execution_count": 221,
   "id": "9650d02d-9a82-4ee2-843c-55ad059ccf0a",
   "metadata": {},
   "outputs": [
    {
     "name": "stdout",
     "output_type": "stream",
     "text": [
      "Logistic Regression's Test Accuracy: 90.58%\n",
      "Logistic Regression's Train Accuracy: 88.65%\n",
      "\n",
      "Classification Report (Test Set):\n",
      "              precision    recall  f1-score   support\n",
      "\n",
      "           0       1.00      0.67      0.80         6\n",
      "           1       1.00      1.00      1.00         9\n",
      "           2       0.71      1.00      0.83         5\n",
      "           3       0.90      1.00      0.95         9\n",
      "           4       1.00      1.00      1.00         2\n",
      "           5       1.00      1.00      1.00         4\n",
      "           6       1.00      1.00      1.00         9\n",
      "           7       1.00      1.00      1.00        30\n",
      "           8       0.95      0.83      0.88        23\n",
      "           9       0.00      0.00      0.00         0\n",
      "          10       1.00      1.00      1.00         2\n",
      "          11       0.33      1.00      0.50         1\n",
      "          12       0.50      0.43      0.46         7\n",
      "          13       0.93      0.90      0.92        31\n",
      "\n",
      "    accuracy                           0.91       138\n",
      "   macro avg       0.81      0.84      0.81       138\n",
      "weighted avg       0.93      0.91      0.91       138\n",
      "\n"
     ]
    }
   ],
   "source": [
    "from sklearn.linear_model import LogisticRegression\n",
    "from sklearn.metrics import classification_report, accuracy_score\n",
    "\n",
    "# Initialize and train the Logistic Regression model\n",
    "LogReg = LogisticRegression(random_state=2)\n",
    "LogReg.fit(x_train, y_train)\n",
    "\n",
    "# Predict on the test set\n",
    "test_predictions = LogReg.predict(x_test)\n",
    "test_accuracy = accuracy_score(y_test, test_predictions)\n",
    "acc.append(test_accuracy)\n",
    "\n",
    "# Predict on the training set\n",
    "train_predictions = LogReg.predict(x_train)\n",
    "train_accuracy = accuracy_score(y_train, train_predictions)\n",
    "acc1.append(train_accuracy)\n",
    "\n",
    "# Print accuracies\n",
    "print(f\"Logistic Regression's Test Accuracy: {test_accuracy * 100:.2f}%\")\n",
    "print(f\"Logistic Regression's Train Accuracy: {train_accuracy * 100:.2f}%\")\n",
    "\n",
    "# Classification report for the test set\n",
    "print(\"\\nClassification Report (Test Set):\")\n",
    "print(classification_report(y_test, test_predictions))\n"
   ]
  },
  {
   "cell_type": "code",
   "execution_count": null,
   "id": "5de3fb11-0f41-4ad7-b817-ee39a6cc9b3b",
   "metadata": {},
   "outputs": [],
   "source": []
  },
  {
   "cell_type": "code",
   "execution_count": 223,
   "id": "dfc43583-94b5-49c9-bcf8-940a373930f5",
   "metadata": {},
   "outputs": [
    {
     "name": "stdout",
     "output_type": "stream",
     "text": [
      "Cross-validation score of LogReg is: [0.97297297 0.94594595 0.91818182 0.88181818 0.87272727]\n",
      "Cross-validation score of SVM is: [0.96396396 0.92792793 0.91818182 0.88181818 0.98181818]\n",
      "Cross-validation score of NaiveBayes is: [1. 1. 1. 1. 1.]\n"
     ]
    }
   ],
   "source": [
    "from sklearn.model_selection import cross_val_score\n",
    "\n",
    "\n",
    "score = cross_val_score(LogReg,data,data.Fertilizer,cv=5)\n",
    "print(\"Cross-validation score of LogReg is:\",score)\n",
    "score = cross_val_score(SVM,data,data.Fertilizer,cv=5)\n",
    "print(\"Cross-validation score of SVM is:\",score)\n",
    "score = cross_val_score(NaiveBayes,data,data.Fertilizer,cv=5)\n",
    "print(\"Cross-validation score of NaiveBayes is:\",score)\n"
   ]
  },
  {
   "cell_type": "code",
   "execution_count": 225,
   "id": "c8d3499e",
   "metadata": {},
   "outputs": [],
   "source": [
    "import pickle\n",
    "# Assuming 'model' is your trained classifier\n",
    "with open('C:/Users/parvathi143/Desktop/webapp/webapp/models/classifier.pkl', 'wb') as f:\n",
    "    pickle.dump(model, f)\n"
   ]
  },
  {
   "cell_type": "code",
   "execution_count": 226,
   "id": "040a0c38-12ec-4408-ad36-dfdd54abe77a",
   "metadata": {},
   "outputs": [],
   "source": [
    "import joblib\n",
    "# Save the model\n",
    "joblib.dump(model, 'classifier.joblib')\n",
    "\n",
    "# Load the model\n",
    "model = joblib.load('classifier.joblib')\n"
   ]
  },
  {
   "cell_type": "code",
   "execution_count": 227,
   "id": "2139cb4a-1598-4586-9cbf-ce3176c30e8e",
   "metadata": {},
   "outputs": [],
   "source": [
    "model = pickle.load(open(r'C:\\Users\\parvathi143\\Desktop\\webapp\\webapp\\models\\classifier.pkl', 'rb'))"
   ]
  },
  {
   "cell_type": "code",
   "execution_count": 229,
   "id": "00250e61-d41b-45dc-a00b-97054e4ab395",
   "metadata": {},
   "outputs": [
    {
     "data": {
      "text/plain": [
       "3"
      ]
     },
     "execution_count": 229,
     "metadata": {},
     "output_type": "execute_result"
    }
   ],
   "source": [
    "#model = pickle.load(open(r'\\Users\\parvathi143\\Desktop\\notebooks\\models\\classifier.pkl','rb')\n",
    "model.predict([[34,67,62,0,1,7,0,30]])[0]"
   ]
  },
  {
   "cell_type": "code",
   "execution_count": 230,
   "id": "8c13638c-1bf4-4808-898d-d25ffa4aa605",
   "metadata": {},
   "outputs": [
    {
     "name": "stdout",
     "output_type": "stream",
     "text": [
      "[11]\n"
     ]
    },
    {
     "data": {
      "text/plain": [
       "11    13\n",
       "Name: Fertilizer, dtype: int32"
      ]
     },
     "execution_count": 230,
     "metadata": {},
     "output_type": "execute_result"
    }
   ],
   "source": [
    "#model = pickle.load(open('../models/classifier.pkl','rb'))\n",
    "fertilizer=model.predict([[27,55,44,0,1,2,24,38]])\n",
    "print(fertilizer)\n",
    "data['Fertilizer'][fertilizer]"
   ]
  },
  {
   "cell_type": "code",
   "execution_count": 257,
   "id": "9d69a9d9",
   "metadata": {},
   "outputs": [
    {
     "name": "stdout",
     "output_type": "stream",
     "text": [
      "14-35-14\n"
     ]
    }
   ],
   "source": [
    "import joblib\n",
    "import pickle\n",
    "import numpy as np\n",
    "from sklearn.preprocessing import LabelEncoder\n",
    "with open('C:/Users/parvathi143/Desktop/webapp/webapp/models/fertilizer_model.pkl', 'wb') as f:\n",
    "    pickle.dump(model, f)\n",
    "joblib.dump(model, 'fertilizer.joblib')\n",
    "\n",
    "# Load the model\n",
    "ferti = joblib.load('fertilizer.joblib')\n",
    "ferti = pickle.load(open(r'C:\\Users\\parvathi143\\Desktop\\webapp\\webapp\\models\\fertilizer_model.pkl', 'rb'))\n",
    "#input_data = [[34, 67, 62, 0, 1, 7, 0, 30]]\n",
    "#ferti.predict(input_data)[0]\n",
    "#ferti.predict([[34,67,62,0,1,7,0,30]])\n",
    "encode_ferti = LabelEncoder()\n",
    "fertilizer_classes = [\"10-10-10\",\"10-26-26\"\t,\"14-14-14\"\t,\"14-35-14\"\t,\"15-15-15\"\t,\"17-17-17\"\t,\"20-20\"\t,\"28-28\"\t,\"DAP\"\t,\"Potassium chloride\"\t,\"Potassium sulfate\",\"Superphosphate\"\t,\"TSP\"\t,\"Urea\"]  # Your actual fertilizer names\n",
    "encode_ferti.fit(fertilizer_classes)  # Fit encoder with fertilizer names\n",
    "\n",
    "# Sample Input Data: [temperature, humidity, moisture, soil_type, crop_type, nitrogen, potassium, phosphorus]\n",
    "input_data = [[34, 67, 62, 0, 1, 7, 0, 30]]\n",
    "\n",
    "# Predict Fertilizer (returns encoded number)\n",
    "predicted_index = ferti.predict(input_data)[0]\n",
    "\n",
    "# Convert index to fertilizer name\n",
    "fertilizer_name = encode_ferti.inverse_transform([predicted_index])[0]  # Convert number to name\n",
    "\n",
    "print(fertilizer_name)"
   ]
  },
  {
   "cell_type": "code",
   "execution_count": 261,
   "id": "44a9e67d-cd2b-4b5f-bd51-b86e900d0181",
   "metadata": {},
   "outputs": [],
   "source": [
    "#ferti = pickle.load(open(r'C:\\Users\\parvathi143\\Desktop\\webapp\\webapp\\models\\fertilizer_model.pkl', 'rb'))\n",
    "#ferti.classes_[1]"
   ]
  },
  {
   "cell_type": "code",
   "execution_count": null,
   "id": "e64d7b57-95f3-4fd1-9174-466eefaebb15",
   "metadata": {},
   "outputs": [],
   "source": []
  },
  {
   "cell_type": "code",
   "execution_count": null,
   "id": "12787a62-0eb3-463b-8105-e926783b4875",
   "metadata": {},
   "outputs": [],
   "source": []
  }
 ],
 "metadata": {
  "kernelspec": {
   "display_name": "Python [conda env:base] *",
   "language": "python",
   "name": "conda-base-py"
  },
  "language_info": {
   "codemirror_mode": {
    "name": "ipython",
    "version": 3
   },
   "file_extension": ".py",
   "mimetype": "text/x-python",
   "name": "python",
   "nbconvert_exporter": "python",
   "pygments_lexer": "ipython3",
   "version": "3.12.7"
  }
 },
 "nbformat": 4,
 "nbformat_minor": 5
}
